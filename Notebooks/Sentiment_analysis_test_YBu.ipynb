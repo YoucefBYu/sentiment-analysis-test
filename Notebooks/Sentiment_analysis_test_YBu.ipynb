{
 "cells": [
  {
   "cell_type": "markdown",
   "metadata": {},
   "source": [
    "# Multilangual Sentiment Analysis - Syntheo \n",
    "\n",
    "Some explanation before reading the the notebook \n",
    "- In this notebook, I going to work on a datasent of multilangial text classified as positive, negeative or neutre, the goal of this test is to build two models and explai why I choosed them and make a comparison of results based in the the results, processing time and other factors.\n",
    "- I am going to write a state of the art of multilangulal text analysis and classification before starting the the code and the manipulation of data in order to achieve good results, and to apply academic research methedology on this problem.\n",
    "- the structure of this notebook is almost like a scientific paper."
   ]
  },
  {
   "cell_type": "markdown",
   "metadata": {},
   "source": [
    "## abstract "
   ]
  },
  {
   "cell_type": "markdown",
   "metadata": {},
   "source": [
    "## 1.Data preparation "
   ]
  },
  {
   "cell_type": "markdown",
   "metadata": {},
   "source": [
    "### 1.1 Preprocessing and preparation of text data one language use case: \n",
    " * **Text analysis** \n",
    " * **Encoding** \n",
    " * **Removing stop word in english language** \n",
    " * **Effeciency of better data encoding method** \n",
    "### 1.2 Preprocessing and preparation of text data one language use case: \n",
    "* **Do we need to know how many language in our dataset** \n",
    "* **Multulangual text encoding**\n",
    "* **Do we need to remove stop words in this cas**\n",
    "* **How to detect panctuation in other languages**\n",
    "* **State of the art methods**\n",
    "* **Further reading**"
   ]
  },
  {
   "cell_type": "markdown",
   "metadata": {},
   "source": [
    "## 2.  multilangual Text classification models"
   ]
  },
  {
   "cell_type": "markdown",
   "metadata": {},
   "source": [
    "## 3. Metrics "
   ]
  },
  {
   "cell_type": "markdown",
   "metadata": {},
   "source": [
    "## 4. Comaparison "
   ]
  },
  {
   "cell_type": "markdown",
   "metadata": {},
   "source": [
    "## Conclusion "
   ]
  },
  {
   "cell_type": "markdown",
   "metadata": {},
   "source": [
    "## References "
   ]
  },
  {
   "cell_type": "markdown",
   "metadata": {},
   "source": [
    "## Saving the project dependancy "
   ]
  },
  {
   "cell_type": "code",
   "execution_count": 1,
   "metadata": {},
   "outputs": [],
   "source": [
    "#!pip freeze > requirements.txt"
   ]
  }
 ],
 "metadata": {
  "interpreter": {
   "hash": "73a541e1a5db848f720d9ceaed7d083a905954a0f99443fe83562f0b0dd016ac"
  },
  "kernelspec": {
   "display_name": "Python 3.7.9 64-bit ('Job-Hunter-data': conda)",
   "language": "python",
   "name": "python3"
  },
  "language_info": {
   "codemirror_mode": {
    "name": "ipython",
    "version": 3
   },
   "file_extension": ".py",
   "mimetype": "text/x-python",
   "name": "python",
   "nbconvert_exporter": "python",
   "pygments_lexer": "ipython3",
   "version": "3.7.9"
  },
  "orig_nbformat": 4
 },
 "nbformat": 4,
 "nbformat_minor": 2
}
